{
 "cells": [
  {
   "cell_type": "code",
   "execution_count": 42,
   "id": "78bb689c",
   "metadata": {},
   "outputs": [],
   "source": [
    "def makeFunc():\n",
    "    return lambda x, y: x + y"
   ]
  },
  {
   "cell_type": "code",
   "execution_count": 45,
   "id": "be3b51b0",
   "metadata": {},
   "outputs": [],
   "source": [
    "def makeFunc():\n",
    "    def result(a, b):\n",
    "        return a + b\n",
    "    return result"
   ]
  },
  {
   "cell_type": "code",
   "execution_count": 43,
   "id": "fb48f8b9",
   "metadata": {},
   "outputs": [],
   "source": [
    "f = makeFunc()"
   ]
  },
  {
   "cell_type": "code",
   "execution_count": 44,
   "id": "6e69b5de",
   "metadata": {},
   "outputs": [
    {
     "data": {
      "text/plain": [
       "11"
      ]
     },
     "execution_count": 44,
     "metadata": {},
     "output_type": "execute_result"
    }
   ],
   "source": [
    "f(4, 7)"
   ]
  },
  {
   "cell_type": "code",
   "execution_count": 8,
   "id": "81c4b397",
   "metadata": {},
   "outputs": [],
   "source": [
    "def add(a, b):\n",
    "    return a + b"
   ]
  },
  {
   "cell_type": "code",
   "execution_count": 9,
   "id": "0d1b5e9f",
   "metadata": {},
   "outputs": [],
   "source": [
    "def pretendToAdd(a, b):\n",
    "    print(f\"I am going to add {a} and {b}.\")"
   ]
  },
  {
   "cell_type": "code",
   "execution_count": 13,
   "id": "959010d5",
   "metadata": {},
   "outputs": [],
   "source": [
    "def addList(l):\n",
    "    return sum(l)"
   ]
  },
  {
   "cell_type": "code",
   "execution_count": 5,
   "id": "5592721b",
   "metadata": {},
   "outputs": [
    {
     "data": {
      "text/plain": [
       "30"
      ]
     },
     "execution_count": 5,
     "metadata": {},
     "output_type": "execute_result"
    }
   ],
   "source": [
    "add(10, 20)"
   ]
  },
  {
   "cell_type": "code",
   "execution_count": 6,
   "id": "c0f70750",
   "metadata": {},
   "outputs": [],
   "source": [
    "age1 = 30\n",
    "age2 = 40"
   ]
  },
  {
   "cell_type": "code",
   "execution_count": 7,
   "id": "f30a0179",
   "metadata": {},
   "outputs": [
    {
     "data": {
      "text/plain": [
       "70"
      ]
     },
     "execution_count": 7,
     "metadata": {},
     "output_type": "execute_result"
    }
   ],
   "source": [
    "add(age1, age2)"
   ]
  },
  {
   "cell_type": "code",
   "execution_count": 10,
   "id": "31d37fc6",
   "metadata": {},
   "outputs": [
    {
     "name": "stdout",
     "output_type": "stream",
     "text": [
      "I am going to add 45 and 11.\n"
     ]
    }
   ],
   "source": [
    "pretendToAdd(45, 11)"
   ]
  },
  {
   "cell_type": "code",
   "execution_count": 14,
   "id": "b0c79d20",
   "metadata": {},
   "outputs": [
    {
     "data": {
      "text/plain": [
       "12"
      ]
     },
     "execution_count": 14,
     "metadata": {},
     "output_type": "execute_result"
    }
   ],
   "source": [
    "addList([3, 4, 5])"
   ]
  },
  {
   "cell_type": "code",
   "execution_count": 15,
   "id": "6069b795",
   "metadata": {},
   "outputs": [
    {
     "data": {
      "text/plain": [
       "0"
      ]
     },
     "execution_count": 15,
     "metadata": {},
     "output_type": "execute_result"
    }
   ],
   "source": [
    "addList([])"
   ]
  },
  {
   "cell_type": "code",
   "execution_count": 20,
   "id": "c23035b8",
   "metadata": {},
   "outputs": [],
   "source": [
    "d = {\n",
    "    \"name\": \"Berlin\",\n",
    "    \"rating\": 7,\n",
    "}"
   ]
  },
  {
   "cell_type": "code",
   "execution_count": 18,
   "id": "51a574f2",
   "metadata": {},
   "outputs": [
    {
     "data": {
      "text/plain": [
       "['name', 'rating']"
      ]
     },
     "execution_count": 18,
     "metadata": {},
     "output_type": "execute_result"
    }
   ],
   "source": [
    "list(d.keys())"
   ]
  },
  {
   "cell_type": "code",
   "execution_count": 19,
   "id": "8c8557d2",
   "metadata": {},
   "outputs": [
    {
     "data": {
      "text/plain": [
       "['Berlin', 7]"
      ]
     },
     "execution_count": 19,
     "metadata": {},
     "output_type": "execute_result"
    }
   ],
   "source": [
    "list(d.values())"
   ]
  },
  {
   "cell_type": "code",
   "execution_count": 21,
   "id": "f5e1a4b6",
   "metadata": {},
   "outputs": [
    {
     "data": {
      "text/plain": [
       "[('name', 'Berlin'), ('rating', 7)]"
      ]
     },
     "execution_count": 21,
     "metadata": {},
     "output_type": "execute_result"
    }
   ],
   "source": [
    "list(d.items())"
   ]
  },
  {
   "cell_type": "code",
   "execution_count": 22,
   "id": "f8a4d035",
   "metadata": {},
   "outputs": [],
   "source": [
    "d2 = dict(d.items())"
   ]
  },
  {
   "cell_type": "code",
   "execution_count": 23,
   "id": "aeb9ba34",
   "metadata": {},
   "outputs": [
    {
     "data": {
      "text/plain": [
       "{'name': 'Berlin', 'rating': 7}"
      ]
     },
     "execution_count": 23,
     "metadata": {},
     "output_type": "execute_result"
    }
   ],
   "source": [
    "d2"
   ]
  },
  {
   "cell_type": "code",
   "execution_count": 1,
   "id": "9061ab14",
   "metadata": {},
   "outputs": [],
   "source": [
    "from funcs import sub"
   ]
  },
  {
   "cell_type": "code",
   "execution_count": 26,
   "id": "c330b625",
   "metadata": {},
   "outputs": [
    {
     "data": {
      "text/plain": [
       "7"
      ]
     },
     "execution_count": 26,
     "metadata": {},
     "output_type": "execute_result"
    }
   ],
   "source": [
    "sub(10, 3)"
   ]
  },
  {
   "cell_type": "code",
   "execution_count": 30,
   "id": "e7784358",
   "metadata": {},
   "outputs": [],
   "source": [
    "from dark.fasta import FastaReads"
   ]
  },
  {
   "cell_type": "code",
   "execution_count": 34,
   "id": "948820af",
   "metadata": {},
   "outputs": [],
   "source": [
    "reads = list(FastaReads(\"../day-1/small-data.fasta\"))"
   ]
  },
  {
   "cell_type": "code",
   "execution_count": 37,
   "id": "2e3268ce",
   "metadata": {},
   "outputs": [
    {
     "data": {
      "text/plain": [
       "'ACTGGACTA'"
      ]
     },
     "execution_count": 37,
     "metadata": {},
     "output_type": "execute_result"
    }
   ],
   "source": [
    "reads[0].sequence"
   ]
  },
  {
   "cell_type": "code",
   "execution_count": 38,
   "id": "bbde990d",
   "metadata": {},
   "outputs": [],
   "source": [
    "from dark.aa import NAMES"
   ]
  },
  {
   "cell_type": "markdown",
   "id": "13cad924",
   "metadata": {},
   "source": [
    "# Programming"
   ]
  },
  {
   "cell_type": "code",
   "execution_count": 53,
   "id": "f82943f2",
   "metadata": {},
   "outputs": [
    {
     "name": "stdout",
     "output_type": "stream",
     "text": [
      "What is your guess? 56\n"
     ]
    }
   ],
   "source": [
    "guess = int(input(\"What is your guess? \"))"
   ]
  },
  {
   "cell_type": "code",
   "execution_count": 66,
   "id": "761963c8",
   "metadata": {},
   "outputs": [],
   "source": [
    "from random import randint"
   ]
  },
  {
   "cell_type": "code",
   "execution_count": 69,
   "id": "30267e82",
   "metadata": {},
   "outputs": [],
   "source": [
    "secret = randint(0, 100)"
   ]
  },
  {
   "cell_type": "code",
   "execution_count": 70,
   "id": "0fc131d0",
   "metadata": {},
   "outputs": [
    {
     "data": {
      "text/plain": [
       "97"
      ]
     },
     "execution_count": 70,
     "metadata": {},
     "output_type": "execute_result"
    }
   ],
   "source": [
    "secret"
   ]
  },
  {
   "cell_type": "code",
   "execution_count": 81,
   "id": "df3825af",
   "metadata": {},
   "outputs": [],
   "source": [
    "def playGame():\n",
    "    secret = randint(0, 10)\n",
    "    guess = secret + 1\n",
    "    numberOfGuesses = 0\n",
    "\n",
    "    while guess != secret:\n",
    "        guess = int(input(\"What is your guess? \"))\n",
    "        numberOfGuesses += 1\n",
    "\n",
    "        if guess > secret:\n",
    "            print(\"Try something lower.\")\n",
    "        elif guess < secret:\n",
    "            print(\"Try something higher.\")\n",
    "        else:\n",
    "            print(\"Well done, champ!\")\n",
    "            \n",
    "    print(f\"You got the answer in {numberOfGuesses} guesses.\")"
   ]
  },
  {
   "cell_type": "code",
   "execution_count": 81,
   "id": "594c1e9e",
   "metadata": {},
   "outputs": [],
   "source": [
    "def playGame():\n",
    "    secret = randint(0, 10)\n",
    "    numberOfGuesses = 0\n",
    "\n",
    "    while True:\n",
    "        guess = int(input(\"What is your guess? \"))\n",
    "        numberOfGuesses += 1\n",
    "\n",
    "        if guess > secret:\n",
    "            print(\"Try something lower.\")\n",
    "        elif guess < secret:\n",
    "            print(\"Try something higher.\")\n",
    "        else:\n",
    "            break\n",
    "            \n",
    "    print(f\"Well done champ, you got the answer in {numberOfGuesses} guesses.\")"
   ]
  },
  {
   "cell_type": "code",
   "execution_count": 82,
   "id": "791ae77f",
   "metadata": {
    "scrolled": true
   },
   "outputs": [
    {
     "name": "stdout",
     "output_type": "stream",
     "text": [
      "What is your guess? 5\n",
      "Try something lower.\n",
      "What is your guess? 3\n",
      "Try something higher.\n",
      "What is your guess? 4\n",
      "Well done, champ!\n",
      "You got the answer in 3 guesses.\n"
     ]
    }
   ],
   "source": [
    "playGame()"
   ]
  },
  {
   "cell_type": "code",
   "execution_count": 1,
   "id": "cf495fb7",
   "metadata": {},
   "outputs": [],
   "source": [
    "from secrets import getSecretWord"
   ]
  },
  {
   "cell_type": "code",
   "execution_count": 86,
   "id": "2518b20b",
   "metadata": {},
   "outputs": [
    {
     "data": {
      "text/plain": [
       "'fruit'"
      ]
     },
     "execution_count": 86,
     "metadata": {},
     "output_type": "execute_result"
    }
   ],
   "source": [
    "getSecretWord()"
   ]
  },
  {
   "cell_type": "code",
   "execution_count": 87,
   "id": "3cdd5f3d",
   "metadata": {},
   "outputs": [
    {
     "data": {
      "text/plain": [
       "'tin'"
      ]
     },
     "execution_count": 87,
     "metadata": {},
     "output_type": "execute_result"
    }
   ],
   "source": [
    "getSecretWord()"
   ]
  },
  {
   "cell_type": "code",
   "execution_count": 8,
   "id": "f90405a9",
   "metadata": {},
   "outputs": [],
   "source": [
    "def playHangman():\n",
    "    secret = getSecretWord()\n",
    "    nLetters = len(secret)\n",
    "    print(f\"The secret word has {nLetters} letters.\")\n",
    "    display = [\"-\"] * nLetters\n",
    "    \n",
    "    while True:\n",
    "        print(\".\".join(display))\n",
    "        # print(display)\n",
    "        guess = input(\"Guess a letter: \")\n",
    "        \n",
    "        # Do stuff..."
   ]
  },
  {
   "cell_type": "code",
   "execution_count": 10,
   "id": "c15f9dd7",
   "metadata": {},
   "outputs": [],
   "source": [
    "from hangman import playHangman"
   ]
  },
  {
   "cell_type": "code",
   "execution_count": null,
   "id": "91e6ac38",
   "metadata": {},
   "outputs": [
    {
     "name": "stdout",
     "output_type": "stream",
     "text": [
      "The secret word has 7 letters.\n",
      "-------\n",
      "Guess a letter: hey\n",
      "-------\n"
     ]
    }
   ],
   "source": [
    "playHangman()\n"
   ]
  }
 ],
 "metadata": {
  "kernelspec": {
   "display_name": "Python 3 (ipykernel)",
   "language": "python",
   "name": "python3"
  },
  "language_info": {
   "codemirror_mode": {
    "name": "ipython",
    "version": 3
   },
   "file_extension": ".py",
   "mimetype": "text/x-python",
   "name": "python",
   "nbconvert_exporter": "python",
   "pygments_lexer": "ipython3",
   "version": "3.10.9"
  }
 },
 "nbformat": 4,
 "nbformat_minor": 5
}
